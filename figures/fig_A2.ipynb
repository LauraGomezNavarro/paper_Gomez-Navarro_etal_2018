{
 "cells": [
  {
   "cell_type": "code",
   "execution_count": 2,
   "metadata": {},
   "outputs": [
    {
     "name": "stdout",
     "output_type": "stream",
     "text": [
      "Populating the interactive namespace from numpy and matplotlib\n"
     ]
    }
   ],
   "source": [
    "%pylab inline"
   ]
  },
  {
   "cell_type": "code",
   "execution_count": 3,
   "metadata": {},
   "outputs": [],
   "source": [
    "import matplotlib.pyplot as plt\n",
    "import numpy as np\n",
    "import glob as glob\n",
    "import matplotlib.gridspec as gridspec\n",
    "from netCDF4 import Dataset\n",
    "\n",
    "import scipy.io as sio\n",
    "\n",
    "import cmocean "
   ]
  },
  {
   "cell_type": "code",
   "execution_count": 4,
   "metadata": {},
   "outputs": [],
   "source": [
    "matplotlib.rcParams.update({'font.size': 12}) "
   ]
  },
  {
   "cell_type": "markdown",
   "metadata": {},
   "source": [
    "# Load data:\n"
   ]
  },
  {
   "cell_type": "code",
   "execution_count": 5,
   "metadata": {},
   "outputs": [],
   "source": [
    "directory = '/Users/laura/Documents/scripts/IMEDEA/data/new_cutoffs/'\n",
    "\n",
    "mdata  = sio.loadmat(directory + 'wnoises_loop_try2_cut.mat')\n",
    "mdata2 = sio.loadmat(directory + 'wnoises_loop_try2.mat')\n",
    "\n",
    "cut   = mdata['cut1'].squeeze()\n",
    "lamn  =  mdata2['lamn'].squeeze()\n",
    "itern =  mdata2['itern'].squeeze()\n"
   ]
  },
  {
   "cell_type": "code",
   "execution_count": 8,
   "metadata": {},
   "outputs": [],
   "source": [
    "itern_r = reshape(itern, (10, 16))\n",
    "lamn_r  = reshape(lamn, (10, 16))\n",
    "cut_r   = reshape(cut, (10, 16))"
   ]
  },
  {
   "cell_type": "code",
   "execution_count": 9,
   "metadata": {},
   "outputs": [
    {
     "data": {
      "image/png": "[encoded data removed]",
      "text/plain": [
       "<matplotlib.figure.Figure at 0x10fb40850>"
      ]
     },
     "metadata": {},
     "output_type": "display_data"
    }
   ],
   "source": [
    "plt.figure(figsize=(8, 5))\n",
    "plt.pcolor(lamn_r, itern_r, cut_r, cmap='viridis')\n",
    "plt.xlim([0, 0.8])\n",
    "plt.colorbar()\n",
    "plt.xlabel('Lambda')\n",
    "plt.ylabel('Number of iterations')\n",
    "\n",
    "savename = '/Users/laura/Documents/scripts/IMEDEA/paperASR/new_version_remote_sensing/figs/' + 'A2' + '.jpeg'\n",
    "plt.savefig(str(savename), bbox_inches='tight', dpi=300)\n",
    "\n",
    "plt.show()"
   ]
  },
  {
   "cell_type": "code",
   "execution_count": 10,
   "metadata": {},
   "outputs": [
    {
     "data": {
      "text/plain": [
       "array([[  16.71864587,   23.95403557,   29.46915114,   33.85355191,\n",
       "          37.58114478,   41.37795918,   45.01642512,   48.19490587,\n",
       "          50.57560976,   53.20377868,   56.12012012,   57.7015873 ,\n",
       "          61.14795009,   63.03030303,   65.03225806,   67.1655914 ],\n",
       "       [  23.95403557,   33.85355191,   41.37795918,   48.19490587,\n",
       "          53.20377868,   57.7015873 ,   63.03030303,   67.1655914 ,\n",
       "          71.8817734 ,   74.4973545 ,   77.31054131,   83.62666667,\n",
       "          87.1884058 ,   91.06719368,   91.06719368,   95.30735931],\n",
       "       [  29.46915114,   41.37795918,   50.57560976,   57.7015873 ,\n",
       "          65.03225806,   71.8817734 ,   77.31054131,   83.62666667,\n",
       "          87.1884058 ,   91.06719368,   95.30735931,   99.96190476,\n",
       "         105.09473684,  110.78362573,  110.78362573,  117.12418301],\n",
       "       [  33.85355191,   48.19490587,   57.7015873 ,   67.1655914 ,\n",
       "          74.4973545 ,   83.62666667,   91.06719368,   95.30735931,\n",
       "          99.96190476,  105.09473684,  110.78362573,  117.12418301,\n",
       "         117.12418301,  124.23529412,  124.23529412,  132.26666667],\n",
       "       [  37.58114478,   53.20377868,   65.03225806,   74.4973545 ,\n",
       "          83.62666667,   91.06719368,   99.96190476,  105.09473684,\n",
       "         110.78362573,  117.12418301,  124.23529412,  124.23529412,\n",
       "         132.26666667,  141.40952381,  141.40952381,  151.91208791],\n",
       "       [  41.37795918,   57.7015873 ,   71.8817734 ,   83.62666667,\n",
       "          91.06719368,   99.96190476,  105.09473684,  117.12418301,\n",
       "         124.23529412,  124.23529412,  132.26666667,  141.40952381,\n",
       "         141.40952381,  151.91208791,  164.1025641 ,  164.1025641 ],\n",
       "       [  45.01642512,   63.03030303,   77.31054131,   91.06719368,\n",
       "          99.96190476,  105.09473684,  117.12418301,  124.23529412,\n",
       "         132.26666667,  141.40952381,  141.40952381,  151.91208791,\n",
       "         164.1025641 ,  164.1025641 ,  164.1025641 ,  178.42424242],\n",
       "       [  48.19490587,   67.1655914 ,   83.62666667,   95.30735931,\n",
       "         105.09473684,  117.12418301,  124.23529412,  132.26666667,\n",
       "         141.40952381,  151.91208791,  151.91208791,  164.1025641 ,\n",
       "         164.1025641 ,  178.42424242,  178.42424242,  178.42424242],\n",
       "       [  50.57560976,   71.8817734 ,   87.1884058 ,   99.96190476,\n",
       "         110.78362573,  124.23529412,  132.26666667,  141.40952381,\n",
       "         151.91208791,  164.1025641 ,  164.1025641 ,  178.42424242,\n",
       "         178.42424242,  178.42424242,  195.49090909,  195.49090909],\n",
       "       [  53.20377868,   74.4973545 ,   91.06719368,  105.09473684,\n",
       "         117.12418301,  124.23529412,  141.40952381,  151.91208791,\n",
       "         164.1025641 ,  164.1025641 ,  178.42424242,  178.42424242,\n",
       "         195.49090909,  195.49090909,  195.49090909,  195.49090909]])"
      ]
     },
     "execution_count": 10,
     "metadata": {},
     "output_type": "execute_result"
    }
   ],
   "source": [
    "cut_r"
   ]
  },
  {
   "cell_type": "code",
   "execution_count": null,
   "metadata": {},
   "outputs": [],
   "source": []
  }
 ],
 "metadata": {
  "anaconda-cloud": {},
  "kernelspec": {
   "display_name": "Python [default]",
   "language": "python",
   "name": "python2"
  },
  "language_info": {
   "codemirror_mode": {
    "name": "ipython",
    "version": 2
   },
   "file_extension": ".py",
   "mimetype": "text/x-python",
   "name": "python",
   "nbconvert_exporter": "python",
   "pygments_lexer": "ipython2",
   "version": "2.7.12"
  }
 },
 "nbformat": 4,
 "nbformat_minor": 1
}
